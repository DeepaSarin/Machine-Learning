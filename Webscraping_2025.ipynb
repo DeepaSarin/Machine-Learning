{
 "cells": [
  {
   "cell_type": "code",
   "execution_count": null,
   "id": "224d21e8-5b62-4f80-88fe-12eeedf3a3f8",
   "metadata": {
    "scrolled": true
   },
   "outputs": [],
   "source": [
    "!pip install newspaper3k\n",
    "!pip install lxml[html_clean]"
   ]
  },
  {
   "cell_type": "code",
   "execution_count": null,
   "id": "d5db1034-df9c-466c-a11a-e509af7c00f4",
   "metadata": {},
   "outputs": [],
   "source": [
    "import newspaper\n",
    "url = 'https://en.wikipedia.org/wiki/Large_language_model' #you can put any website address here \n",
    "url_i = newspaper.Article(url=\"%s\" % (url), language='en')\n",
    "url_i.download()\n",
    "url_i.parse()\n",
    "print(url_i.text)"
   ]
  }
 ],
 "metadata": {
  "kernelspec": {
   "display_name": "Python 3 (ipykernel)",
   "language": "python",
   "name": "python3"
  },
  "language_info": {
   "codemirror_mode": {
    "name": "ipython",
    "version": 3
   },
   "file_extension": ".py",
   "mimetype": "text/x-python",
   "name": "python",
   "nbconvert_exporter": "python",
   "pygments_lexer": "ipython3",
   "version": "3.12.4"
  }
 },
 "nbformat": 4,
 "nbformat_minor": 5
}
